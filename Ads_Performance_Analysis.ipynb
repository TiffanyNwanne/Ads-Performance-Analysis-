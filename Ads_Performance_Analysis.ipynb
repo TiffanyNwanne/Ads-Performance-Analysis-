{
  "nbformat": 4,
  "nbformat_minor": 0,
  "metadata": {
    "colab": {
      "provenance": []
    },
    "kernelspec": {
      "name": "python3",
      "display_name": "Python 3"
    },
    "language_info": {
      "name": "python"
    }
  },
  "cells": [
    {
      "cell_type": "code",
      "execution_count": null,
      "metadata": {
        "id": "FXXeiO3doBuE"
      },
      "outputs": [],
      "source": [
        "# Import required libraries\n",
        "import pandas as pd\n"
      ]
    },
    {
      "cell_type": "code",
      "source": [
        "# Load the dataset\n",
        "file_path = \"/content/marketing_campaign_dataset.csv\"  # Change to your file path\n",
        "df = pd.read_csv(file_path)\n"
      ],
      "metadata": {
        "id": "vIxtFcMdoujt"
      },
      "execution_count": null,
      "outputs": []
    },
    {
      "cell_type": "code",
      "source": [
        "# 1️⃣ Clean the 'Acquisition_Cost' column (remove $ and commas, convert to float)\n",
        "df['Acquisition_Cost'] = df['Acquisition_Cost'].replace('[\\$,]', '', regex=True).astype(float)\n"
      ],
      "metadata": {
        "id": "TdpzDGHvougT"
      },
      "execution_count": null,
      "outputs": []
    },
    {
      "cell_type": "code",
      "source": [
        "# 2️⃣ Calculate CTR (Click-Through Rate) = Clicks / Impressions\n",
        "df[\"CTR\"] = (df[\"Clicks\"] / df[\"Impressions\"]) * 100\n"
      ],
      "metadata": {
        "id": "lrG24XzdoubU"
      },
      "execution_count": null,
      "outputs": []
    },
    {
      "cell_type": "code",
      "source": [
        "# 3️⃣ Calculate Average ROI & Acquisition Cost by Campaign Type\n",
        "roi_by_campaign = df.groupby(\"Campaign_Type\").agg({\"ROI\": \"mean\", \"Acquisition_Cost\": \"mean\"}).reset_index()\n"
      ],
      "metadata": {
        "id": "wiQFsovVouU-"
      },
      "execution_count": null,
      "outputs": []
    },
    {
      "cell_type": "code",
      "source": [
        "# 4️⃣ Calculate Average ROI & Acquisition Cost by Advertising Channel\n",
        "roi_by_channel = df.groupby(\"Channel_Used\").agg({\"ROI\": \"mean\", \"Acquisition_Cost\": \"mean\"}).reset_index()\n"
      ],
      "metadata": {
        "id": "ssDiAvNEouRT"
      },
      "execution_count": null,
      "outputs": []
    },
    {
      "cell_type": "code",
      "source": [
        "# 5️⃣ Calculate CTR vs. ROI by Advertising Channel\n",
        "ctr_by_channel = df.groupby(\"Channel_Used\").agg({\"CTR\": \"mean\", \"ROI\": \"mean\"}).reset_index()\n"
      ],
      "metadata": {
        "id": "ASOvJ3DbouM6"
      },
      "execution_count": null,
      "outputs": []
    },
    {
      "cell_type": "code",
      "source": [
        "# 6️⃣ Find Top & Bottom 5 Campaigns by ROI\n",
        "top_campaigns = df.nlargest(5, \"ROI\")[[\"Campaign_ID\", \"Company\", \"Campaign_Type\", \"Channel_Used\", \"ROI\", \"Acquisition_Cost\"]]\n",
        "bottom_campaigns = df.nsmallest(5, \"ROI\")[[\"Campaign_ID\", \"Company\", \"Campaign_Type\", \"Channel_Used\", \"ROI\", \"Acquisition_Cost\"]]\n"
      ],
      "metadata": {
        "id": "tNCpI121ouGO"
      },
      "execution_count": null,
      "outputs": []
    },
    {
      "cell_type": "code",
      "source": [
        "# Save cleaned data for Tableau\n",
        "df.to_csv(\"cleaned_marketing_campaign_data.csv\", index=False)\n",
        "roi_by_campaign.to_csv(\"roi_by_campaign.csv\", index=False)\n",
        "roi_by_channel.to_csv(\"roi_by_channel.csv\", index=False)\n",
        "ctr_by_channel.to_csv(\"ctr_by_channel.csv\", index=False)\n",
        "top_campaigns.to_csv(\"top_campaigns.csv\", index=False)\n",
        "bottom_campaigns.to_csv(\"bottom_campaigns.csv\", index=False)\n",
        "\n",
        "print(\"✅ Data cleaned and saved for Tableau!\")"
      ],
      "metadata": {
        "colab": {
          "base_uri": "https://localhost:8080/"
        },
        "id": "fsCC4mc3ouB_",
        "outputId": "dd730679-dd17-462a-89c2-a9edd95505e4"
      },
      "execution_count": null,
      "outputs": [
        {
          "output_type": "stream",
          "name": "stdout",
          "text": [
            "✅ Data cleaned and saved for Tableau!\n"
          ]
        }
      ]
    }
  ]
}